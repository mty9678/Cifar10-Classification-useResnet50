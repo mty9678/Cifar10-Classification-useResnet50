{
 "cells": [
  {
   "cell_type": "code",
   "execution_count": 2,
   "metadata": {},
   "outputs": [
    {
     "name": "stderr",
     "output_type": "stream",
     "text": [
      "Using TensorFlow backend.\n"
     ]
    }
   ],
   "source": [
    "import keras\n",
    "import numpy as np\n",
    "from keras import layers\n",
    "from keras.layers import Input, Add, Dense, Activation, ZeroPadding2D,BatchNormalization\n",
    "from keras.layers import Flatten, Conv2D, AveragePooling2D, MaxPooling2D, GlobalMaxPooling2D\n",
    "from keras.models import Model, load_model\n",
    "from keras.preprocessing import image\n",
    "from keras.utils import layer_utils\n",
    "from keras.utils.data_utils import get_file\n",
    "from keras.applications.imagenet_utils import preprocess_input\n",
    "import pydot\n",
    "from IPython.display import SVG\n",
    "from keras.utils.vis_utils import model_to_dot\n",
    "from keras.utils import plot_model\n",
    "from resnets_utils import *\n",
    "from keras.initializers import glorot_uniform\n",
    "import scipy.misc\n",
    "from matplotlib.pyplot import imshow\n",
    "from keras.datasets import cifar10\n",
    "%matplotlib inline\n",
    "\n",
    "import keras.backend as K\n",
    "K.set_image_data_format('channels_last')\n",
    "K.set_learning_phase(1)"
   ]
  },
  {
   "cell_type": "code",
   "execution_count": 3,
   "metadata": {},
   "outputs": [],
   "source": [
    "def identity_block(X, f, filters, stage, block):\n",
    "    \"\"\"\n",
    "    Implementation of the identity block as defined in Figure 3\n",
    "    \n",
    "    Arguments:\n",
    "    X -- input tensor of shape (m, n_H_prev, n_W_prev, n_C_prev)\n",
    "    f -- integer, specifying the shape of the middle CONV's window for the main path\n",
    "    filters -- python list of integers, defining the number of filters in the CONV layers of the main path\n",
    "    stage -- integer, used to name the layers, depending on their position in the network\n",
    "    block -- string/character, used to name the layers, depending on their position in the network\n",
    "    \n",
    "    Returns:\n",
    "    X -- output of the identity block, tensor of shape (n_H, n_W, n_C)\n",
    "    \"\"\"\n",
    "    \n",
    "    # defining name basis\n",
    "    conv_name_base = 'res' + str(stage) + block + '_branch'\n",
    "    bn_name_base = 'bn' + str(stage) + block + '_branch'\n",
    "    \n",
    "    # Retrieve Filters\n",
    "    F1, F2 = filters\n",
    "    \n",
    "    # Save the input value. later to add back to the main path. \n",
    "    X_shortcut = X\n",
    "    \n",
    "    # First component of main path\n",
    "    X = Conv2D(filters = F1, kernel_size = (f, f), strides = (1,1), padding = \"same\", \n",
    "               name = conv_name_base + '2a', kernel_initializer = glorot_uniform(seed=0))(X)\n",
    "    X = BatchNormalization(axis = 3, name = bn_name_base + '2a')(X)\n",
    "    X = Activation('relu')(X)\n",
    "    \n",
    "    # Second component of main path \n",
    "    X = Conv2D(filters = F2, kernel_size = (f, f), strides = (1, 1), padding = \"same\", \n",
    "               name = conv_name_base + \"2b\", kernel_initializer = glorot_uniform(seed=0))(X)\n",
    "    X = BatchNormalization(axis = 3, name = bn_name_base + '2b')(X)\n",
    "\n",
    "    # Final step: Add shortcut value to main path, and pass it through a RELU activation\n",
    "    X = Add()([X, X_shortcut])\n",
    "    X = Activation(\"relu\")(X)\n",
    "    \n",
    "    return X"
   ]
  },
  {
   "cell_type": "code",
   "execution_count": 4,
   "metadata": {},
   "outputs": [],
   "source": [
    "def convolutional_block(X, f, filters, stage, block, s = 2):\n",
    "    \"\"\"\n",
    "    Implementation of the convolutional block as defined in Figure 4\n",
    "    \n",
    "    Arguments:\n",
    "    X -- input tensor of shape (m, n_H_prev, n_W_prev, n_C_prev)\n",
    "    f -- integer, specifying the shape of the middle CONV's window for the main path\n",
    "    filters -- python list of integers, defining the number of filters in the CONV layers of the main path\n",
    "    stage -- integer, used to name the layers, depending on their position in the network\n",
    "    block -- string/character, used to name the layers,depending on their position in the network\n",
    "    s -- Integer, specifying the stride to be used\n",
    "    \n",
    "    Returns:\n",
    "    X -- output of the convolutional block, tensor of shape (n_H, n_W, n_C)\n",
    "    \"\"\"\n",
    "    \n",
    "    # defining name basis\n",
    "    conv_name_base = 'res' + str(stage) + block + '_branch'\n",
    "    bn_name_base = 'bn' + str(stage) + block + '_branch'\n",
    "    \n",
    "    # Retrieve Filters\n",
    "    F1, F2 = filters\n",
    "    \n",
    "    # Save the input value\n",
    "    X_shortcut = X\n",
    "\n",
    "    # First component of main path \n",
    "    X = Conv2D(F1, (f, f), strides = (s,s), name = conv_name_base + '2a', kernel_initializer = glorot_uniform(seed=0))(X)\n",
    "    X = BatchNormalization(axis = 3, name = bn_name_base + '2a')(X)\n",
    "    X = Activation('relu')(X)\n",
    "\n",
    "    # Second component of main path \n",
    "    X = Conv2D(F2, (f, f), strides = (1,1), padding = \"same\",\n",
    "               name = conv_name_base + '2b',kernel_initializer = glorot_uniform(seed=0))(X)\n",
    "    X = BatchNormalization(axis = 3, name = bn_name_base + '2b')(X)\n",
    "\n",
    "    X_shortcut = Conv2D(F2, (f, f), strides = (s,s), \n",
    "                        name = conv_name_base + '1', kernel_initializer = glorot_uniform(seed=0))(X_shortcut)\n",
    "    X_shortcut = BatchNormalization(axis = 3, name = bn_name_base + '1')(X_shortcut)\n",
    "\n",
    "    # Final step: Add shortcut value to main path, and pass it through a RELU activation\n",
    "    X = Add()([X, X_shortcut])\n",
    "    X = Activation(\"relu\")(X)\n",
    "    \n",
    "    return X"
   ]
  },
  {
   "cell_type": "code",
   "execution_count": 7,
   "metadata": {},
   "outputs": [],
   "source": [
    "def ResNet56(input_shape = (32, 32, 3), classes = 10):\n",
    "    \"\"\"\n",
    "    Implementation of the popular ResNet50 the following architecture:\n",
    "    CONV2D -> BATCHNORM -> RELU -> MAXPOOL -> CONVBLOCK \n",
    "    -> IDBLOCK*2 -> CONVBLOCK -> IDBLOCK*3\n",
    "    -> CONVBLOCK -> IDBLOCK*5 -> CONVBLOCK -> IDBLOCK*2 \n",
    "    -> AVGPOOL -> TOPLAYER\n",
    "\n",
    "    Arguments:\n",
    "    input_shape -- shape of the images of the dataset\n",
    "    classes -- integer, number of classes\n",
    "\n",
    "    Returns:\n",
    "    model -- a Model() instance in Keras\n",
    "    \"\"\"\n",
    "    \n",
    "    # Define the input as a tensor with shape input_shape\n",
    "    X_input = Input(input_shape)\n",
    "\n",
    "    \n",
    "    # Zero-Padding\n",
    "    \n",
    "    # Stage 1\n",
    "    X = Conv2D(16, (3, 3), strides = (1, 1), padding = \"same\", name = 'conv1', kernel_initializer = glorot_uniform(seed=0))(X_input)\n",
    "    X = BatchNormalization(axis = 1, name = 'bn_conv1')(X)\n",
    "    X = Activation('relu')(X)\n",
    "    print(X.shape)\n",
    "\n",
    "    # Stage 2\n",
    "    X = identity_block(X, 3, [16, 16], stage=2, block='a')\n",
    "    X = identity_block(X, 3, [16, 16], stage=2, block='b')\n",
    "    X = identity_block(X, 3, [16, 16], stage=2, block='c')\n",
    "    X = identity_block(X, 3, [16, 16], stage=2, block='d')\n",
    "    X = identity_block(X, 3, [16, 16], stage=2, block='e')\n",
    "    X = identity_block(X, 3, [16, 16], stage=2, block='f')\n",
    "    X = identity_block(X, 3, [16, 16], stage=2, block='g')\n",
    "    X = identity_block(X, 3, [16, 16], stage=2, block='h')\n",
    "    X = identity_block(X, 3, [16, 16], stage=2, block='i')\n",
    "    print(X.shape)\n",
    "    X = ZeroPadding2D((1, 1))(X)\n",
    "    # Stage 3 \n",
    "    X = convolutional_block(X, f = 3, filters = [32, 32], stage = 3, block='a', s = 2)\n",
    "    X = identity_block(X, 3, [32, 32], stage=3, block='b')\n",
    "    X = identity_block(X, 3, [32, 32], stage=3, block='c')\n",
    "    X = identity_block(X, 3, [32, 32], stage=3, block='d')\n",
    "    X = identity_block(X, 3, [32, 32], stage=3, block='e')\n",
    "    X = identity_block(X, 3, [32, 32], stage=3, block='f')\n",
    "    X = identity_block(X, 3, [32, 32], stage=3, block='g')\n",
    "    X = identity_block(X, 3, [32, 32], stage=3, block='h')\n",
    "    X = identity_block(X, 3, [32, 32], stage=3, block='i')\n",
    "    print(X.shape)\n",
    "    X = ZeroPadding2D((1, 1))(X)\n",
    "    # Stage 4 \n",
    "    X = convolutional_block(X, f = 3, filters = [64, 64], stage = 4, block='a', s = 2)\n",
    "    X = identity_block(X, 3, [64, 64], stage=4, block='b')\n",
    "    X = identity_block(X, 3, [64, 64], stage=4, block='c')\n",
    "    X = identity_block(X, 3, [64, 64], stage=4, block='d')\n",
    "    X = identity_block(X, 3, [64, 64], stage=4, block='e')\n",
    "    X = identity_block(X, 3, [64, 64], stage=4, block='f')\n",
    "    X = identity_block(X, 3, [64, 64], stage=4, block='g')\n",
    "    X = identity_block(X, 3, [64, 64], stage=4, block='h')\n",
    "    X = identity_block(X, 3, [64, 64], stage=4, block='i')\n",
    "    print(X.shape)\n",
    "    # AVGPOOL. Use \"X = AveragePooling2D(...)(X)\"\n",
    "    X = AveragePooling2D(pool_size=(8, 8))(X)\n",
    "    \n",
    "    # output layer\n",
    "    X = Flatten()(X)\n",
    "    X = Dense(classes, activation='softmax', name='fc' + str(classes), kernel_initializer = glorot_uniform(seed=0))(X)\n",
    "    \n",
    "    \n",
    "    # Create model\n",
    "    model = Model(inputs = X_input, outputs = X, name='ResNet56')\n",
    "\n",
    "    return model"
   ]
  },
  {
   "cell_type": "code",
   "execution_count": 8,
   "metadata": {},
   "outputs": [
    {
     "name": "stdout",
     "output_type": "stream",
     "text": [
      "(?, 32, 32, 16)\n",
      "(?, 32, 32, 16)\n",
      "(?, 16, 16, 32)\n",
      "(?, 8, 8, 64)\n"
     ]
    }
   ],
   "source": [
    "model = ResNet56(input_shape = (32, 32, 3), classes = 10)\n",
    "model.compile(optimizer='adam', loss='categorical_crossentropy', metrics=['accuracy'])\n",
    "(x_train,y_train),(x_test,y_test) = cifar10.load_data()\n",
    "x_train = x_train/255\n",
    "x_test = x_test/255\n",
    "y_train = keras.utils.to_categorical(y_train,10)\n",
    "y_test = keras.utils.to_categorical(y_test,10)"
   ]
  },
  {
   "cell_type": "code",
   "execution_count": 17,
   "metadata": {},
   "outputs": [
    {
     "name": "stdout",
     "output_type": "stream",
     "text": [
      "Epoch 1/50\n",
      "50000/50000 [==============================] - 88s 2ms/step - loss: 1.7387 - acc: 0.3770: 1s - loss: 1.7453 - acc\n",
      "Epoch 2/50\n",
      "50000/50000 [==============================] - 70s 1ms/step - loss: 1.2544 - acc: 0.5499\n",
      "Epoch 3/50\n",
      "50000/50000 [==============================] - 70s 1ms/step - loss: 0.9939 - acc: 0.6499\n",
      "Epoch 4/50\n",
      "50000/50000 [==============================] - 71s 1ms/step - loss: 0.8194 - acc: 0.7134\n",
      "Epoch 5/50\n",
      "50000/50000 [==============================] - 71s 1ms/step - loss: 0.7054 - acc: 0.7550: \n",
      "Epoch 6/50\n",
      "50000/50000 [==============================] - 71s 1ms/step - loss: 0.6175 - acc: 0.7875: 3s - loss: 0.6\n",
      "Epoch 7/50\n",
      "50000/50000 [==============================] - 71s 1ms/step - loss: 0.5482 - acc: 0.8094\n",
      "Epoch 8/50\n",
      "50000/50000 [==============================] - 71s 1ms/step - loss: 0.4838 - acc: 0.8308: 2s - loss: 0.4837 -\n",
      "Epoch 9/50\n",
      "50000/50000 [==============================] - 71s 1ms/step - loss: 0.4305 - acc: 0.8499\n",
      "Epoch 10/50\n",
      "50000/50000 [==============================] - 71s 1ms/step - loss: 0.3817 - acc: 0.8678\n",
      "Epoch 11/50\n",
      "50000/50000 [==============================] - 71s 1ms/step - loss: 0.3378 - acc: 0.8818\n",
      "Epoch 12/50\n",
      "50000/50000 [==============================] - 71s 1ms/step - loss: 0.2967 - acc: 0.8957\n",
      "Epoch 13/50\n",
      "50000/50000 [==============================] - 71s 1ms/step - loss: 0.2576 - acc: 0.9100\n",
      "Epoch 14/50\n",
      "50000/50000 [==============================] - 71s 1ms/step - loss: 0.2296 - acc: 0.9189\n",
      "Epoch 15/50\n",
      "50000/50000 [==============================] - 71s 1ms/step - loss: 0.2024 - acc: 0.9278\n",
      "Epoch 16/50\n",
      "50000/50000 [==============================] - 70s 1ms/step - loss: 0.1772 - acc: 0.9368\n",
      "Epoch 17/50\n",
      "50000/50000 [==============================] - 70s 1ms/step - loss: 0.1551 - acc: 0.9456\n",
      "Epoch 18/50\n",
      "50000/50000 [==============================] - 70s 1ms/step - loss: 0.1384 - acc: 0.9514\n",
      "Epoch 19/50\n",
      "50000/50000 [==============================] - 70s 1ms/step - loss: 0.1208 - acc: 0.9572\n",
      "Epoch 20/50\n",
      "50000/50000 [==============================] - 71s 1ms/step - loss: 0.1128 - acc: 0.9607\n",
      "Epoch 21/50\n",
      "50000/50000 [==============================] - 70s 1ms/step - loss: 0.0981 - acc: 0.9650\n",
      "Epoch 22/50\n",
      "50000/50000 [==============================] - 85s 2ms/step - loss: 0.0948 - acc: 0.9661\n",
      "Epoch 23/50\n",
      "50000/50000 [==============================] - 70s 1ms/step - loss: 0.0849 - acc: 0.9693\n",
      "Epoch 24/50\n",
      "50000/50000 [==============================] - 70s 1ms/step - loss: 0.0810 - acc: 0.9714\n",
      "Epoch 25/50\n",
      "50000/50000 [==============================] - 70s 1ms/step - loss: 0.0748 - acc: 0.9735\n",
      "Epoch 26/50\n",
      "50000/50000 [==============================] - 70s 1ms/step - loss: 0.0672 - acc: 0.9756\n",
      "Epoch 27/50\n",
      "50000/50000 [==============================] - 70s 1ms/step - loss: 0.0695 - acc: 0.9755\n",
      "Epoch 28/50\n",
      "50000/50000 [==============================] - 70s 1ms/step - loss: 0.0609 - acc: 0.9790\n",
      "Epoch 29/50\n",
      "50000/50000 [==============================] - 70s 1ms/step - loss: 0.0652 - acc: 0.9772\n",
      "Epoch 30/50\n",
      "50000/50000 [==============================] - 70s 1ms/step - loss: 0.0629 - acc: 0.9780\n",
      "Epoch 31/50\n",
      "50000/50000 [==============================] - 70s 1ms/step - loss: 0.0571 - acc: 0.9800\n",
      "Epoch 32/50\n",
      "50000/50000 [==============================] - 70s 1ms/step - loss: 0.0560 - acc: 0.9809\n",
      "Epoch 33/50\n",
      "50000/50000 [==============================] - 70s 1ms/step - loss: 0.0534 - acc: 0.9812\n",
      "Epoch 34/50\n",
      "50000/50000 [==============================] - 70s 1ms/step - loss: 0.0504 - acc: 0.9825\n",
      "Epoch 35/50\n",
      "50000/50000 [==============================] - 70s 1ms/step - loss: 0.0555 - acc: 0.9802\n",
      "Epoch 36/50\n",
      "50000/50000 [==============================] - 70s 1ms/step - loss: 0.0396 - acc: 0.9872\n",
      "Epoch 37/50\n",
      "50000/50000 [==============================] - 70s 1ms/step - loss: 0.0508 - acc: 0.9820: 2s - loss: 0.0500\n",
      "Epoch 38/50\n",
      "50000/50000 [==============================] - 70s 1ms/step - loss: 0.0438 - acc: 0.9850\n",
      "Epoch 39/50\n",
      "50000/50000 [==============================] - 70s 1ms/step - loss: 0.0462 - acc: 0.9830\n",
      "Epoch 40/50\n",
      "50000/50000 [==============================] - 70s 1ms/step - loss: 0.0434 - acc: 0.9851\n",
      "Epoch 41/50\n",
      "50000/50000 [==============================] - 70s 1ms/step - loss: 0.0401 - acc: 0.9865: 2s - loss: 0.039\n",
      "Epoch 42/50\n",
      "50000/50000 [==============================] - 70s 1ms/step - loss: 0.0409 - acc: 0.9860\n",
      "Epoch 43/50\n",
      "50000/50000 [==============================] - 70s 1ms/step - loss: 0.0445 - acc: 0.9846\n",
      "Epoch 44/50\n",
      "50000/50000 [==============================] - 70s 1ms/step - loss: 0.0405 - acc: 0.9852\n",
      "Epoch 45/50\n",
      "50000/50000 [==============================] - 70s 1ms/step - loss: 0.0316 - acc: 0.9897\n",
      "Epoch 46/50\n",
      "50000/50000 [==============================] - 70s 1ms/step - loss: 0.0385 - acc: 0.9867\n",
      "Epoch 47/50\n",
      "50000/50000 [==============================] - 70s 1ms/step - loss: 0.0336 - acc: 0.9887\n",
      "Epoch 48/50\n",
      "50000/50000 [==============================] - 70s 1ms/step - loss: 0.0403 - acc: 0.9858\n",
      "Epoch 49/50\n",
      "50000/50000 [==============================] - 70s 1ms/step - loss: 0.0336 - acc: 0.9883: 8s - loss: 0.0305 - \n",
      "Epoch 50/50\n",
      "50000/50000 [==============================] - 70s 1ms/step - loss: 0.0303 - acc: 0.9896\n"
     ]
    },
    {
     "data": {
      "text/plain": [
       "<keras.callbacks.History at 0x18d0e5deeb8>"
      ]
     },
     "execution_count": 17,
     "metadata": {},
     "output_type": "execute_result"
    }
   ],
   "source": [
    "model.fit(x_train, y_train, epochs = 50, batch_size = 128)"
   ]
  },
  {
   "cell_type": "code",
   "execution_count": 18,
   "metadata": {},
   "outputs": [
    {
     "name": "stdout",
     "output_type": "stream",
     "text": [
      "10000/10000 [==============================] - 7s 670us/step\n",
      "Loss = 1.1632175745\n",
      "Test Accuracy = 0.8007\n"
     ]
    }
   ],
   "source": [
    "preds = model.evaluate(x_test, y_test, batch_size = 64)\n",
    "print (\"Loss = \" + str(preds[0]))\n",
    "print (\"Test Accuracy = \" + str(preds[1]))"
   ]
  },
  {
   "cell_type": "code",
   "execution_count": 12,
   "metadata": {},
   "outputs": [
    {
     "name": "stdout",
     "output_type": "stream",
     "text": [
      "Epoch 1/10\n",
      "50000/50000 [==============================] - 72s 1ms/step - loss: 0.0766 - acc: 0.9723\n",
      "Epoch 2/10\n",
      "50000/50000 [==============================] - 72s 1ms/step - loss: 0.0685 - acc: 0.9762\n",
      "Epoch 3/10\n",
      "50000/50000 [==============================] - 72s 1ms/step - loss: 0.0657 - acc: 0.9765\n",
      "Epoch 4/10\n",
      "50000/50000 [==============================] - 72s 1ms/step - loss: 0.0646 - acc: 0.9761: 5s \n",
      "Epoch 5/10\n",
      "50000/50000 [==============================] - 72s 1ms/step - loss: 0.0645 - acc: 0.9769\n",
      "Epoch 6/10\n",
      "50000/50000 [==============================] - 72s 1ms/step - loss: 0.0605 - acc: 0.9780\n",
      "Epoch 7/10\n",
      "50000/50000 [==============================] - 72s 1ms/step - loss: 0.0529 - acc: 0.9819\n",
      "Epoch 8/10\n",
      "50000/50000 [==============================] - 72s 1ms/step - loss: 0.0524 - acc: 0.9809\n",
      "Epoch 9/10\n",
      "50000/50000 [==============================] - 72s 1ms/step - loss: 0.0572 - acc: 0.9798: 0s - loss: 0.0568 - acc: 0\n",
      "Epoch 10/10\n",
      "50000/50000 [==============================] - 72s 1ms/step - loss: 0.0498 - acc: 0.9829\n"
     ]
    },
    {
     "data": {
      "text/plain": [
       "<keras.callbacks.History at 0x17c88889390>"
      ]
     },
     "execution_count": 12,
     "metadata": {},
     "output_type": "execute_result"
    }
   ],
   "source": [
    "model.fit(x_train, y_train, epochs = 10, batch_size = 128)"
   ]
  },
  {
   "cell_type": "code",
   "execution_count": 13,
   "metadata": {},
   "outputs": [
    {
     "name": "stdout",
     "output_type": "stream",
     "text": [
      "10000/10000 [==============================] - 6s 602us/step\n",
      "Loss = 0.978442318726\n",
      "Test Accuracy = 0.807\n"
     ]
    }
   ],
   "source": [
    "preds = model.evaluate(x_test, y_test, batch_size = 64)\n",
    "print (\"Loss = \" + str(preds[0]))\n",
    "print (\"Test Accuracy = \" + str(preds[1]))"
   ]
  },
  {
   "cell_type": "code",
   "execution_count": null,
   "metadata": {},
   "outputs": [],
   "source": []
  }
 ],
 "metadata": {
  "kernelspec": {
   "display_name": "Python 3",
   "language": "python",
   "name": "python3"
  },
  "language_info": {
   "codemirror_mode": {
    "name": "ipython",
    "version": 3
   },
   "file_extension": ".py",
   "mimetype": "text/x-python",
   "name": "python",
   "nbconvert_exporter": "python",
   "pygments_lexer": "ipython3",
   "version": "3.6.5"
  }
 },
 "nbformat": 4,
 "nbformat_minor": 2
}

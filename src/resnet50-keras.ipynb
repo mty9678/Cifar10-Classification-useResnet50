{
 "cells": [
  {
   "cell_type": "code",
   "execution_count": 1,
   "metadata": {},
   "outputs": [
    {
     "name": "stderr",
     "output_type": "stream",
     "text": [
      "Using TensorFlow backend.\n"
     ]
    }
   ],
   "source": [
    "import keras\n",
    "import numpy as np\n",
    "from keras import layers\n",
    "from keras.layers import Input, Add, Dense, Activation, ZeroPadding2D,BatchNormalization\n",
    "from keras.layers import Flatten, Conv2D, AveragePooling2D, MaxPooling2D, GlobalMaxPooling2D\n",
    "from keras.models import Model, load_model\n",
    "from keras.preprocessing import image\n",
    "from keras.utils import layer_utils\n",
    "from keras.utils.data_utils import get_file\n",
    "from keras.applications.imagenet_utils import preprocess_input\n",
    "import pydot\n",
    "from IPython.display import SVG\n",
    "from keras.utils.vis_utils import model_to_dot\n",
    "from keras.utils import plot_model\n",
    "from resnets_utils import *\n",
    "from keras.initializers import glorot_uniform\n",
    "import scipy.misc\n",
    "from matplotlib.pyplot import imshow\n",
    "from keras.datasets import cifar10\n",
    "%matplotlib inline\n",
    "\n",
    "import keras.backend as K\n",
    "K.set_image_data_format('channels_last')\n",
    "K.set_learning_phase(1)"
   ]
  },
  {
   "cell_type": "code",
   "execution_count": 2,
   "metadata": {},
   "outputs": [],
   "source": [
    "def identity_block(X, f, filters, stage, block):\n",
    "    \"\"\"\n",
    "    Implementation of the identity block as defined in Figure 3\n",
    "    \n",
    "    Arguments:\n",
    "    X -- input tensor of shape (m, n_H_prev, n_W_prev, n_C_prev)\n",
    "    f -- integer, specifying the shape of the middle CONV's window for the main path\n",
    "    filters -- python list of integers, defining the number of filters in the CONV layers of the main path\n",
    "    stage -- integer, used to name the layers, depending on their position in the network\n",
    "    block -- string/character, used to name the layers, depending on their position in the network\n",
    "    \n",
    "    Returns:\n",
    "    X -- output of the identity block, tensor of shape (n_H, n_W, n_C)\n",
    "    \"\"\"\n",
    "    \n",
    "    # defining name basis\n",
    "    conv_name_base = 'res' + str(stage) + block + '_branch'\n",
    "    bn_name_base = 'bn' + str(stage) + block + '_branch'\n",
    "    \n",
    "    # Retrieve Filters\n",
    "    F1, F2, F3 = filters\n",
    "    \n",
    "    # Save the input value. later to add back to the main path. \n",
    "    X_shortcut = X\n",
    "    \n",
    "    # First component of main path\n",
    "    X = Conv2D(filters = F1, kernel_size = (1, 1), strides = (1,1), \n",
    "               padding = 'valid', \n",
    "               name = conv_name_base + '2a', \n",
    "               kernel_initializer = glorot_uniform(seed=0))(X)\n",
    "    X = BatchNormalization(axis = 3, name = bn_name_base + '2a')(X)\n",
    "    X = Activation('relu')(X)\n",
    "    \n",
    "    # Second component of main path \n",
    "    X = Conv2D(filters = F2, kernel_size = (f, f), strides = (1, 1), \n",
    "               padding = \"same\",\n",
    "               name = conv_name_base + \"2b\", \n",
    "               kernel_initializer = glorot_uniform(seed=0))(X)\n",
    "    X = BatchNormalization(axis = 3, name = bn_name_base + '2b')(X)\n",
    "    X = Activation(\"relu\")(X)\n",
    "\n",
    "    # Third component of main path\n",
    "    X = Conv2D(filters = F3, kernel_size = (1, 1), strides = (1, 1), \n",
    "               padding = \"valid\",\n",
    "               name = conv_name_base + \"2c\", \n",
    "               kernel_initializer = glorot_uniform(seed=0))(X)\n",
    "    X = BatchNormalization(axis = 3, name = bn_name_base + \"2c\")(X)\n",
    "\n",
    "    # Final step: Add shortcut value to main path, and pass it through a RELU activation\n",
    "    X = Add()([X, X_shortcut])\n",
    "    X = Activation(\"relu\")(X)\n",
    "    \n",
    "    return X"
   ]
  },
  {
   "cell_type": "code",
   "execution_count": 3,
   "metadata": {},
   "outputs": [],
   "source": [
    "def convolutional_block(X, f, filters, stage, block, s = 2):\n",
    "    \"\"\"\n",
    "    Implementation of the convolutional block as defined in Figure 4\n",
    "    \n",
    "    Arguments:\n",
    "    X -- input tensor of shape (m, n_H_prev, n_W_prev, n_C_prev)\n",
    "    f -- integer, specifying the shape of the middle CONV's window for the main path\n",
    "    filters -- python list of integers, defining the number of filters in the CONV layers of the main path\n",
    "    stage -- integer, used to name the layers, depending on their position in the network\n",
    "    block -- string/character, used to name the layers,depending on their position in the network\n",
    "    s -- Integer, specifying the stride to be used\n",
    "    \n",
    "    Returns:\n",
    "    X -- output of the convolutional block, tensor of shape (n_H, n_W, n_C)\n",
    "    \"\"\"\n",
    "    \n",
    "    # defining name basis\n",
    "    conv_name_base = 'res' + str(stage) + block + '_branch'\n",
    "    bn_name_base = 'bn' + str(stage) + block + '_branch'\n",
    "    \n",
    "    # Retrieve Filters\n",
    "    F1, F2, F3 = filters\n",
    "    \n",
    "    # Save the input value\n",
    "    X_shortcut = X\n",
    "\n",
    "    # First component of main path \n",
    "    X = Conv2D(F1, (1, 1), strides = (s,s), name = conv_name_base + '2a', kernel_initializer = glorot_uniform(seed=0))(X)\n",
    "    X = BatchNormalization(axis = 3, name = bn_name_base + '2a')(X)\n",
    "    X = Activation('relu')(X)\n",
    "\n",
    "    # Second component of main path \n",
    "    X = Conv2D(F2, (f, f), strides = (1,1), padding = \"same\",name = conv_name_base + '2b',kernel_initializer = glorot_uniform(seed=0))(X)\n",
    "    X = BatchNormalization(axis = 3, name = bn_name_base + '2b')(X)\n",
    "    X = Activation('relu')(X)\n",
    "\n",
    "    # Third component of main path\n",
    "    X = Conv2D(F3, (1, 1), strides = (1,1), name = conv_name_base + '2c',kernel_initializer = glorot_uniform(seed=0))(X)\n",
    "    X = BatchNormalization(axis = 3, name = bn_name_base + '2c')(X)\n",
    "\n",
    "    X_shortcut = Conv2D(F3, (1, 1), strides = (s,s), name = conv_name_base + '1', \n",
    "                        kernel_initializer = glorot_uniform(seed=0))(X_shortcut)\n",
    "    X_shortcut = BatchNormalization(axis = 3, name = bn_name_base + '1')(X_shortcut)\n",
    "\n",
    "    # Final step: Add shortcut value to main path, and pass it through a RELU activation\n",
    "    X = Add()([X, X_shortcut])\n",
    "    X = Activation(\"relu\")(X)\n",
    "    \n",
    "    return X"
   ]
  },
  {
   "cell_type": "code",
   "execution_count": 4,
   "metadata": {},
   "outputs": [],
   "source": [
    "def ResNet50(input_shape = (32, 32, 3), classes = 10):\n",
    "    \"\"\"\n",
    "    Implementation of the popular ResNet50 the following architecture:\n",
    "    CONV2D -> BATCHNORM -> RELU -> MAXPOOL -> CONVBLOCK \n",
    "    -> IDBLOCK*2 -> CONVBLOCK -> IDBLOCK*3\n",
    "    -> CONVBLOCK -> IDBLOCK*5 -> CONVBLOCK -> IDBLOCK*2 \n",
    "    -> AVGPOOL -> TOPLAYER\n",
    "\n",
    "    Arguments:\n",
    "    input_shape -- shape of the images of the dataset\n",
    "    classes -- integer, number of classes\n",
    "\n",
    "    Returns:\n",
    "    model -- a Model() instance in Keras\n",
    "    \"\"\"\n",
    "    \n",
    "    # Define the input as a tensor with shape input_shape\n",
    "    X_input = Input(input_shape)\n",
    "\n",
    "    \n",
    "    # Zero-Padding\n",
    "    X = ZeroPadding2D((3, 3))(X_input)\n",
    "    \n",
    "    # Stage 1\n",
    "    X = Conv2D(64, (7, 7), strides = (2, 2), name = 'conv1', \n",
    "               kernel_initializer = glorot_uniform(seed=0))(X)\n",
    "    X = BatchNormalization(axis = 3, name = 'bn_conv1')(X)\n",
    "    X = Activation('relu')(X)\n",
    "    X = MaxPooling2D((3, 3), strides=(2, 2))(X)\n",
    "\n",
    "    # Stage 2\n",
    "    X = convolutional_block(X, f = 3, filters = [64, 64, 256], \n",
    "                            stage = 2, block='a', s = 1)\n",
    "    X = identity_block(X, 3, [64, 64, 256], stage=2, block='b')\n",
    "    X = identity_block(X, 3, [64, 64, 256], stage=2, block='c')\n",
    "\n",
    "    # Stage 3 \n",
    "    X = convolutional_block(X, f = 3, filters = [128, 128, 512], \n",
    "                            stage = 3, block='a', s = 2)\n",
    "    X = identity_block(X, 3, [128, 128, 512], stage=3, block='b')\n",
    "    X = identity_block(X, 3, [128, 128, 512], stage=3, block='c')\n",
    "    X = identity_block(X, 3, [128, 128, 512], stage=3, block='d')\n",
    "\n",
    "    # Stage 4 \n",
    "    X = convolutional_block(X, f = 3, filters = [256, 256, 1024], \n",
    "                            stage = 4, block='a', s = 2)\n",
    "    X = identity_block(X, 3, [256, 256, 1024], stage=4, block='b')\n",
    "    X = identity_block(X, 3, [256, 256, 1024], stage=4, block='c')\n",
    "    X = identity_block(X, 3, [256, 256, 1024], stage=4, block='d')\n",
    "    X = identity_block(X, 3, [256, 256, 1024], stage=4, block='e')\n",
    "    X = identity_block(X, 3, [256, 256, 1024], stage=4, block='f')\n",
    "\n",
    "    # Stage 5 \n",
    "    X = convolutional_block(X, f = 3, filters = [512, 512, 2048], \n",
    "                            stage = 5, block='a', s = 2)\n",
    "    X = identity_block(X, 3, [512, 512, 2048], stage=5, block='b')\n",
    "    X = identity_block(X, 3, [512, 512, 2048], stage=5, block='c')\n",
    "\n",
    "    # AVGPOOL. Use \"X = AveragePooling2D(...)(X)\"\n",
    "    X = AveragePooling2D(pool_size=(1, 1))(X)\n",
    "    \n",
    "    # output layer\n",
    "    X = Flatten()(X)\n",
    "    X = Dense(classes, activation='softmax', name='fc' + str(classes), \n",
    "              kernel_initializer = glorot_uniform(seed=0))(X)\n",
    "    \n",
    "    \n",
    "    # Create model\n",
    "    model = Model(inputs = X_input, outputs = X, name='ResNet50')\n",
    "\n",
    "    return model"
   ]
  },
  {
   "cell_type": "code",
   "execution_count": 5,
   "metadata": {},
   "outputs": [],
   "source": [
    "model = ResNet50(input_shape = (32, 32, 3), classes = 10)"
   ]
  },
  {
   "cell_type": "code",
   "execution_count": 6,
   "metadata": {},
   "outputs": [],
   "source": [
    "model.compile(optimizer='adam', loss='categorical_crossentropy', metrics=['accuracy'])"
   ]
  },
  {
   "cell_type": "code",
   "execution_count": 7,
   "metadata": {},
   "outputs": [],
   "source": [
    "(x_train,y_train),(x_test,y_test) = cifar10.load_data()\n",
    "x_train = x_train/255\n",
    "x_test = x_test/255\n",
    "y_train = keras.utils.to_categorical(y_train,10)\n",
    "y_test = keras.utils.to_categorical(y_test,10)"
   ]
  },
  {
   "cell_type": "code",
   "execution_count": 25,
   "metadata": {},
   "outputs": [
    {
     "name": "stdout",
     "output_type": "stream",
     "text": [
      "Epoch 1/1\n",
      "50000/50000 [==============================] - 227s 5ms/step - loss: 2.4691 - acc: 0.2596\n"
     ]
    },
    {
     "data": {
      "text/plain": [
       "<keras.callbacks.History at 0x194079f9240>"
      ]
     },
     "execution_count": 25,
     "metadata": {},
     "output_type": "execute_result"
    }
   ],
   "source": [
    "model.fit(x_train, y_train, epochs = 10, batch_size = 32,initial_epoch=1)"
   ]
  },
  {
   "cell_type": "code",
   "execution_count": 26,
   "metadata": {},
   "outputs": [
    {
     "name": "stdout",
     "output_type": "stream",
     "text": [
      "Epoch 2/10\n",
      "50000/50000 [==============================] - 122s 2ms/step - loss: 2.1882 - acc: 0.2784\n",
      "Epoch 3/10\n",
      "50000/50000 [==============================] - 122s 2ms/step - loss: 2.1704 - acc: 0.2877\n",
      "Epoch 4/10\n",
      "50000/50000 [==============================] - 122s 2ms/step - loss: 2.0273 - acc: 0.3304\n",
      "Epoch 5/10\n",
      "50000/50000 [==============================] - 122s 2ms/step - loss: 2.0520 - acc: 0.3195\n",
      "Epoch 6/10\n",
      "50000/50000 [==============================] - 122s 2ms/step - loss: 2.0064 - acc: 0.3328\n",
      "Epoch 7/10\n",
      "50000/50000 [==============================] - 122s 2ms/step - loss: 1.8725 - acc: 0.3782\n",
      "Epoch 8/10\n",
      "50000/50000 [==============================] - 122s 2ms/step - loss: 1.8910 - acc: 0.3655\n",
      "Epoch 9/10\n",
      "50000/50000 [==============================] - 121s 2ms/step - loss: 1.8032 - acc: 0.3936\n",
      "Epoch 10/10\n",
      "50000/50000 [==============================] - 121s 2ms/step - loss: 1.6985 - acc: 0.4310\n"
     ]
    },
    {
     "data": {
      "text/plain": [
       "<keras.callbacks.History at 0x194079f91d0>"
      ]
     },
     "execution_count": 26,
     "metadata": {},
     "output_type": "execute_result"
    }
   ],
   "source": [
    "model.fit(x_train, y_train, epochs = 10, batch_size = 64,initial_epoch=1)"
   ]
  },
  {
   "cell_type": "code",
   "execution_count": 27,
   "metadata": {},
   "outputs": [
    {
     "name": "stdout",
     "output_type": "stream",
     "text": [
      "10000/10000 [==============================] - 10s 973us/step\n",
      "Loss = 2.93044428635\n",
      "Test Accuracy = 0.1968\n"
     ]
    }
   ],
   "source": [
    "preds = model.evaluate(x_test, y_test)\n",
    "print (\"Loss = \" + str(preds[0]))\n",
    "print (\"Test Accuracy = \" + str(preds[1]))"
   ]
  },
  {
   "cell_type": "code",
   "execution_count": 28,
   "metadata": {},
   "outputs": [
    {
     "name": "stdout",
     "output_type": "stream",
     "text": [
      "Epoch 11/50\n",
      "50000/50000 [==============================] - 121s 2ms/step - loss: 1.6595 - acc: 0.4487\n",
      "Epoch 12/50\n",
      "50000/50000 [==============================] - 121s 2ms/step - loss: 1.9149 - acc: 0.3698\n",
      "Epoch 13/50\n",
      "50000/50000 [==============================] - 121s 2ms/step - loss: 1.7208 - acc: 0.4355\n",
      "Epoch 14/50\n",
      "50000/50000 [==============================] - 121s 2ms/step - loss: 1.9220 - acc: 0.3665\n",
      "Epoch 15/50\n",
      "50000/50000 [==============================] - 121s 2ms/step - loss: 2.1953 - acc: 0.2561\n",
      "Epoch 16/50\n",
      "50000/50000 [==============================] - 121s 2ms/step - loss: 1.7685 - acc: 0.3512\n",
      "Epoch 17/50\n",
      "50000/50000 [==============================] - 121s 2ms/step - loss: 1.5967 - acc: 0.4151\n",
      "Epoch 18/50\n",
      "50000/50000 [==============================] - 121s 2ms/step - loss: 1.5225 - acc: 0.4451\n",
      "Epoch 19/50\n",
      "50000/50000 [==============================] - 121s 2ms/step - loss: 1.4357 - acc: 0.4760\n",
      "Epoch 20/50\n",
      "50000/50000 [==============================] - 121s 2ms/step - loss: 1.3862 - acc: 0.4948\n",
      "Epoch 21/50\n",
      "50000/50000 [==============================] - 121s 2ms/step - loss: 1.3251 - acc: 0.5161\n",
      "Epoch 22/50\n",
      "50000/50000 [==============================] - 121s 2ms/step - loss: 1.2647 - acc: 0.5416\n",
      "Epoch 23/50\n",
      "50000/50000 [==============================] - 121s 2ms/step - loss: 1.2215 - acc: 0.5606\n",
      "Epoch 24/50\n",
      "50000/50000 [==============================] - 120s 2ms/step - loss: 1.1497 - acc: 0.5868\n",
      "Epoch 25/50\n",
      "50000/50000 [==============================] - 120s 2ms/step - loss: 1.0885 - acc: 0.6120\n",
      "Epoch 26/50\n",
      "50000/50000 [==============================] - 120s 2ms/step - loss: 1.0295 - acc: 0.6302\n",
      "Epoch 27/50\n",
      "50000/50000 [==============================] - 120s 2ms/step - loss: 0.9715 - acc: 0.6522\n",
      "Epoch 28/50\n",
      "50000/50000 [==============================] - 120s 2ms/step - loss: 0.9350 - acc: 0.6653\n",
      "Epoch 29/50\n",
      "50000/50000 [==============================] - 120s 2ms/step - loss: 0.9036 - acc: 0.6799\n",
      "Epoch 30/50\n",
      "50000/50000 [==============================] - 120s 2ms/step - loss: 0.8697 - acc: 0.6912\n",
      "Epoch 31/50\n",
      "50000/50000 [==============================] - 121s 2ms/step - loss: 0.7614 - acc: 0.7289\n",
      "Epoch 32/50\n",
      "50000/50000 [==============================] - 122s 2ms/step - loss: 0.7343 - acc: 0.7399\n",
      "Epoch 33/50\n",
      "50000/50000 [==============================] - 123s 2ms/step - loss: 0.6570 - acc: 0.7675\n",
      "Epoch 34/50\n",
      "50000/50000 [==============================] - 126s 3ms/step - loss: 0.5812 - acc: 0.7922\n",
      "Epoch 35/50\n",
      "50000/50000 [==============================] - 122s 2ms/step - loss: 0.7045 - acc: 0.7518\n",
      "Epoch 36/50\n",
      "50000/50000 [==============================] - 121s 2ms/step - loss: 0.8810 - acc: 0.6926\n",
      "Epoch 37/50\n",
      "50000/50000 [==============================] - 121s 2ms/step - loss: 0.5541 - acc: 0.8014\n",
      "Epoch 38/50\n",
      "50000/50000 [==============================] - 121s 2ms/step - loss: 0.4506 - acc: 0.8373\n",
      "Epoch 39/50\n",
      "50000/50000 [==============================] - 121s 2ms/step - loss: 0.3863 - acc: 0.8623\n",
      "Epoch 40/50\n",
      "50000/50000 [==============================] - 121s 2ms/step - loss: 0.3377 - acc: 0.8815\n",
      "Epoch 41/50\n",
      "50000/50000 [==============================] - 121s 2ms/step - loss: 0.3019 - acc: 0.8924\n",
      "Epoch 42/50\n",
      "50000/50000 [==============================] - 121s 2ms/step - loss: 0.2525 - acc: 0.9093\n",
      "Epoch 43/50\n",
      "50000/50000 [==============================] - 121s 2ms/step - loss: 0.2230 - acc: 0.9205\n",
      "Epoch 44/50\n",
      "50000/50000 [==============================] - 121s 2ms/step - loss: 0.2054 - acc: 0.9267\n",
      "Epoch 45/50\n",
      "50000/50000 [==============================] - 121s 2ms/step - loss: 0.2344 - acc: 0.9187\n",
      "Epoch 46/50\n",
      "50000/50000 [==============================] - 121s 2ms/step - loss: 0.1587 - acc: 0.9462\n",
      "Epoch 47/50\n",
      "50000/50000 [==============================] - 121s 2ms/step - loss: 0.1813 - acc: 0.9360\n",
      "Epoch 48/50\n",
      "50000/50000 [==============================] - 121s 2ms/step - loss: 0.1399 - acc: 0.9511\n",
      "Epoch 49/50\n",
      "50000/50000 [==============================] - 121s 2ms/step - loss: 0.1107 - acc: 0.9618\n",
      "Epoch 50/50\n",
      "50000/50000 [==============================] - 121s 2ms/step - loss: 0.1281 - acc: 0.9552\n"
     ]
    },
    {
     "data": {
      "text/plain": [
       "<keras.callbacks.History at 0x194079d5cf8>"
      ]
     },
     "execution_count": 28,
     "metadata": {},
     "output_type": "execute_result"
    }
   ],
   "source": [
    "model.fit(x_train, y_train, epochs = 50, batch_size = 64,initial_epoch=10)"
   ]
  },
  {
   "cell_type": "code",
   "execution_count": 29,
   "metadata": {},
   "outputs": [
    {
     "name": "stdout",
     "output_type": "stream",
     "text": [
      "10000/10000 [==============================] - 9s 866us/step\n",
      "Loss = 4.51188512497\n",
      "Test Accuracy = 0.3336\n"
     ]
    }
   ],
   "source": [
    "preds = model.evaluate(x_test, y_test)\n",
    "print (\"Loss = \" + str(preds[0]))\n",
    "print (\"Test Accuracy = \" + str(preds[1]))"
   ]
  },
  {
   "cell_type": "code",
   "execution_count": 30,
   "metadata": {},
   "outputs": [
    {
     "name": "stdout",
     "output_type": "stream",
     "text": [
      "Epoch 51/60\n",
      "50000/50000 [==============================] - 121s 2ms/step - loss: 0.2006 - acc: 0.9316\n",
      "Epoch 52/60\n",
      "50000/50000 [==============================] - 121s 2ms/step - loss: 0.1032 - acc: 0.9638\n",
      "Epoch 53/60\n",
      "50000/50000 [==============================] - 122s 2ms/step - loss: 0.1977 - acc: 0.9339\n",
      "Epoch 54/60\n",
      "50000/50000 [==============================] - 122s 2ms/step - loss: 0.0756 - acc: 0.9739\n",
      "Epoch 55/60\n",
      "50000/50000 [==============================] - 121s 2ms/step - loss: 0.0668 - acc: 0.9772\n",
      "Epoch 56/60\n",
      "50000/50000 [==============================] - 121s 2ms/step - loss: 0.0895 - acc: 0.9690\n",
      "Epoch 57/60\n",
      "50000/50000 [==============================] - 121s 2ms/step - loss: 0.1875 - acc: 0.9378\n",
      "Epoch 58/60\n",
      "50000/50000 [==============================] - 121s 2ms/step - loss: 0.1335 - acc: 0.9571\n",
      "Epoch 59/60\n",
      "50000/50000 [==============================] - 122s 2ms/step - loss: 0.1048 - acc: 0.9643\n",
      "Epoch 60/60\n",
      "50000/50000 [==============================] - 121s 2ms/step - loss: 0.0596 - acc: 0.9798\n"
     ]
    },
    {
     "data": {
      "text/plain": [
       "<keras.callbacks.History at 0x194079d5d68>"
      ]
     },
     "execution_count": 30,
     "metadata": {},
     "output_type": "execute_result"
    }
   ],
   "source": [
    "model.fit(x_train, y_train, epochs = 60, batch_size = 64,initial_epoch=50)"
   ]
  },
  {
   "cell_type": "code",
   "execution_count": 31,
   "metadata": {},
   "outputs": [
    {
     "name": "stdout",
     "output_type": "stream",
     "text": [
      "10000/10000 [==============================] - 8s 834us/step\n",
      "Loss = 8.14963706818\n",
      "Test Accuracy = 0.2449\n"
     ]
    }
   ],
   "source": [
    "preds = model.evaluate(x_test, y_test)\n",
    "print (\"Loss = \" + str(preds[0]))\n",
    "print (\"Test Accuracy = \" + str(preds[1]))"
   ]
  },
  {
   "cell_type": "code",
   "execution_count": 10,
   "metadata": {},
   "outputs": [
    {
     "name": "stdout",
     "output_type": "stream",
     "text": [
      "10000/10000 [==============================] - 10s 1ms/step\n",
      "Loss = 2.01250006657\n",
      "Test Accuracy = 0.6746\n"
     ]
    }
   ],
   "source": [
    "preds = model.evaluate(x_test, y_test)\n",
    "print (\"Loss = \" + str(preds[0]))\n",
    "print (\"Test Accuracy = \" + str(preds[1]))"
   ]
  },
  {
   "cell_type": "code",
   "execution_count": 14,
   "metadata": {},
   "outputs": [
    {
     "name": "stdout",
     "output_type": "stream",
     "text": [
      "Epoch 36/40\n",
      "50000/50000 [==============================] - 115s 2ms/step - loss: 0.0301 - acc: 0.9896\n",
      "Epoch 37/40\n",
      "50000/50000 [==============================] - 116s 2ms/step - loss: 0.0763 - acc: 0.9769\n",
      "Epoch 38/40\n",
      "50000/50000 [==============================] - 115s 2ms/step - loss: 0.0286 - acc: 0.9918\n",
      "Epoch 39/40\n",
      "50000/50000 [==============================] - 115s 2ms/step - loss: 0.0345 - acc: 0.9895\n",
      "Epoch 40/40\n",
      "50000/50000 [==============================] - 116s 2ms/step - loss: 0.0272 - acc: 0.9909\n"
     ]
    },
    {
     "data": {
      "text/plain": [
       "<keras.callbacks.History at 0x1b20b2c0a58>"
      ]
     },
     "execution_count": 14,
     "metadata": {},
     "output_type": "execute_result"
    }
   ],
   "source": [
    "model.fit(x_train, y_train, epochs = 40, batch_size = 64,initial_epoch=35)"
   ]
  },
  {
   "cell_type": "code",
   "execution_count": 12,
   "metadata": {},
   "outputs": [
    {
     "name": "stdout",
     "output_type": "stream",
     "text": [
      "10000/10000 [==============================] - 4s 439us/step\n",
      "Loss = 1.84914103546\n",
      "Test Accuracy = 0.6978\n"
     ]
    }
   ],
   "source": [
    "preds = model.evaluate(x_test, y_test, batch_size = 64)\n",
    "print (\"Loss = \" + str(preds[0]))\n",
    "print (\"Test Accuracy = \" + str(preds[1]))"
   ]
  },
  {
   "cell_type": "code",
   "execution_count": 15,
   "metadata": {},
   "outputs": [
    {
     "name": "stdout",
     "output_type": "stream",
     "text": [
      "10000/10000 [==============================] - 5s 462us/step\n",
      "Loss = 2.01404643402\n",
      "Test Accuracy = 0.7076\n"
     ]
    }
   ],
   "source": [
    "preds = model.evaluate(x_test, y_test, batch_size = 64)\n",
    "print (\"Loss = \" + str(preds[0]))\n",
    "print (\"Test Accuracy = \" + str(preds[1]))"
   ]
  },
  {
   "cell_type": "code",
   "execution_count": 16,
   "metadata": {},
   "outputs": [],
   "source": [
    "model.save('cifar10_trained_model.h5')"
   ]
  },
  {
   "cell_type": "code",
   "execution_count": null,
   "metadata": {},
   "outputs": [],
   "source": []
  }
 ],
 "metadata": {
  "kernelspec": {
   "display_name": "Python 3",
   "language": "python",
   "name": "python3"
  },
  "language_info": {
   "codemirror_mode": {
    "name": "ipython",
    "version": 3
   },
   "file_extension": ".py",
   "mimetype": "text/x-python",
   "name": "python",
   "nbconvert_exporter": "python",
   "pygments_lexer": "ipython3",
   "version": "3.6.5"
  }
 },
 "nbformat": 4,
 "nbformat_minor": 2
}

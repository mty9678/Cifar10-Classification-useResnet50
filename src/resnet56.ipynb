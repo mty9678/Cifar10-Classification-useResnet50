{
 "cells": [
  {
   "cell_type": "code",
   "execution_count": 1,
   "metadata": {},
   "outputs": [
    {
     "name": "stderr",
     "output_type": "stream",
     "text": [
      "Using TensorFlow backend.\n"
     ]
    }
   ],
   "source": [
    "import keras\n",
    "import numpy as np\n",
    "from keras import layers\n",
    "from keras.layers import Input, Add, Dense, Activation, ZeroPadding2D,BatchNormalization\n",
    "from keras.layers import Flatten, Conv2D, AveragePooling2D, MaxPooling2D, GlobalMaxPooling2D\n",
    "from keras.models import Model, load_model\n",
    "from keras.initializers import glorot_uniform\n",
    "%matplotlib inline"
   ]
  },
  {
   "cell_type": "code",
   "execution_count": 2,
   "metadata": {},
   "outputs": [],
   "source": [
    "def identity_block(X, f, filters, stage, block):\n",
    "    # defining name basis\n",
    "    conv_name_base = 'res' + str(stage) + block + '_branch'\n",
    "    bn_name_base = 'bn' + str(stage) + block + '_branch'\n",
    "    \n",
    "    # Retrieve Filters\n",
    "    F1, F2 = filters\n",
    "    \n",
    "    # Save the input value. later to add back to the main path. \n",
    "    X_shortcut = X\n",
    "    \n",
    "    # First component of main path\n",
    "    X = Conv2D(filters = F1, kernel_size = (f, f), strides = (1,1), padding = \"same\", \n",
    "               name = conv_name_base + '2a', kernel_initializer = glorot_uniform(seed=0))(X)\n",
    "    X = BatchNormalization(axis = 3, name = bn_name_base + '2a')(X)\n",
    "    X = Activation('relu')(X)\n",
    "    \n",
    "    # Second component of main path \n",
    "    X = Conv2D(filters = F2, kernel_size = (f, f), strides = (1, 1), padding = \"same\", \n",
    "               name = conv_name_base + \"2b\", kernel_initializer = glorot_uniform(seed=0))(X)\n",
    "    X = BatchNormalization(axis = 3, name = bn_name_base + '2b')(X)\n",
    "\n",
    "    # Final step: Add shortcut value to main path, and pass it through a RELU activation\n",
    "    X = Add()([X, X_shortcut])\n",
    "    X = Activation(\"relu\")(X)\n",
    "    \n",
    "    return X"
   ]
  },
  {
   "cell_type": "code",
   "execution_count": 3,
   "metadata": {},
   "outputs": [],
   "source": [
    "def convolutional_block(X, f, filters, stage, block, s = 2):\n",
    "    # defining name basis\n",
    "    conv_name_base = 'res' + str(stage) + block + '_branch'\n",
    "    bn_name_base = 'bn' + str(stage) + block + '_branch'\n",
    "    \n",
    "    # Retrieve Filters\n",
    "    F1, F2 = filters\n",
    "    \n",
    "    # Save the input value\n",
    "    X_shortcut = X\n",
    "\n",
    "    # First component of main path \n",
    "    X = Conv2D(F1, (f, f), strides = (s,s), padding = \"same\",\n",
    "               name = conv_name_base + '2a', kernel_initializer = glorot_uniform(seed=0))(X)\n",
    "    X = BatchNormalization(axis = 3, name = bn_name_base + '2a')(X)\n",
    "    X = Activation('relu')(X)\n",
    "\n",
    "    # Second component of main path \n",
    "    X = Conv2D(F2, (f, f), strides = (1,1), padding = \"same\",\n",
    "               name = conv_name_base + '2b',kernel_initializer = glorot_uniform(seed=0))(X)\n",
    "    X = BatchNormalization(axis = 3, name = bn_name_base + '2b')(X)\n",
    "\n",
    "    X_shortcut = Conv2D(F2, (f, f), strides = (s,s), padding = \"same\",\n",
    "                        name = conv_name_base + '1', kernel_initializer = glorot_uniform(seed=0))(X_shortcut)\n",
    "    X_shortcut = BatchNormalization(axis = 3, name = bn_name_base + '1')(X_shortcut)\n",
    "\n",
    "    # Final step: Add shortcut value to main path, and pass it through a RELU activation\n",
    "    X = Add()([X, X_shortcut])\n",
    "    X = Activation(\"relu\")(X)\n",
    "    \n",
    "    return X"
   ]
  },
  {
   "cell_type": "code",
   "execution_count": 4,
   "metadata": {},
   "outputs": [],
   "source": [
    "def ResNet56(input_shape = (32, 32, 3), classes = 10):\n",
    "    # Define the input as a tensor with shape input_shape\n",
    "    X_input = Input(input_shape)\n",
    "    \n",
    "    # Zero-Padding\n",
    "    \n",
    "    # Stage 1\n",
    "    X = Conv2D(16, (3, 3), strides = (1, 1), padding = \"same\", name = 'conv1', kernel_initializer = glorot_uniform(seed=0))(X_input)\n",
    "    X = BatchNormalization(axis = 1, name = 'bn_conv1')(X)\n",
    "    X = Activation('relu')(X)\n",
    "\n",
    "    # Stage 2\n",
    "    X = convolutional_block(X, f = 3, filters = [16, 16], stage = 2, block='a', s = 1)\n",
    "    X = identity_block(X, 3, [16, 16], stage=2, block='b')\n",
    "    X = identity_block(X, 3, [16, 16], stage=2, block='c')\n",
    "    X = identity_block(X, 3, [16, 16], stage=2, block='d')\n",
    "    X = identity_block(X, 3, [16, 16], stage=2, block='e')\n",
    "    X = identity_block(X, 3, [16, 16], stage=2, block='f')\n",
    "    X = identity_block(X, 3, [16, 16], stage=2, block='g')\n",
    "    X = identity_block(X, 3, [16, 16], stage=2, block='h')\n",
    "    X = identity_block(X, 3, [16, 16], stage=2, block='i')\n",
    "\n",
    "    # Stage 3 \n",
    "    X = convolutional_block(X, f = 3, filters = [32, 32], stage = 3, block='a', s = 2)\n",
    "    X = identity_block(X, 3, [32, 32], stage=3, block='b')\n",
    "    X = identity_block(X, 3, [32, 32], stage=3, block='c')\n",
    "    X = identity_block(X, 3, [32, 32], stage=3, block='d')\n",
    "    X = identity_block(X, 3, [32, 32], stage=3, block='e')\n",
    "    X = identity_block(X, 3, [32, 32], stage=3, block='f')\n",
    "    X = identity_block(X, 3, [32, 32], stage=3, block='g')\n",
    "    X = identity_block(X, 3, [32, 32], stage=3, block='h')\n",
    "    X = identity_block(X, 3, [32, 32], stage=3, block='i')\n",
    "\n",
    "    # Stage 4 \n",
    "    X = convolutional_block(X, f = 3, filters = [64, 64], stage = 4, block='a', s = 2)\n",
    "    X = identity_block(X, 3, [64, 64], stage=4, block='b')\n",
    "    X = identity_block(X, 3, [64, 64], stage=4, block='c')\n",
    "    X = identity_block(X, 3, [64, 64], stage=4, block='d')\n",
    "    X = identity_block(X, 3, [64, 64], stage=4, block='e')\n",
    "    X = identity_block(X, 3, [64, 64], stage=4, block='f')\n",
    "    X = identity_block(X, 3, [64, 64], stage=4, block='g')\n",
    "    X = identity_block(X, 3, [64, 64], stage=4, block='h')\n",
    "    X = identity_block(X, 3, [64, 64], stage=4, block='i')\n",
    "\n",
    "    # AVGPOOL. Use \"X = AveragePooling2D(...)(X)\"\n",
    "    X = AveragePooling2D(pool_size=(8, 8))(X)\n",
    "    \n",
    "    # output layer\n",
    "    X = Flatten()(X)\n",
    "    X = Dense(classes, activation='softmax', name='fc' + str(classes), kernel_initializer = glorot_uniform(seed=0))(X) \n",
    "    \n",
    "    # Create model\n",
    "    model = Model(inputs = X_input, outputs = X, name='ResNet56')\n",
    "\n",
    "    return model"
   ]
  },
  {
   "cell_type": "code",
   "execution_count": 5,
   "metadata": {},
   "outputs": [],
   "source": [
    "model = ResNet56(input_shape = (32, 32, 3), classes = 10)"
   ]
  }
 ],
 "metadata": {
  "kernelspec": {
   "display_name": "Python 3",
   "language": "python",
   "name": "python3"
  },
  "language_info": {
   "codemirror_mode": {
    "name": "ipython",
    "version": 3
   },
   "file_extension": ".py",
   "mimetype": "text/x-python",
   "name": "python",
   "nbconvert_exporter": "python",
   "pygments_lexer": "ipython3",
   "version": "3.6.5"
  }
 },
 "nbformat": 4,
 "nbformat_minor": 2
}
